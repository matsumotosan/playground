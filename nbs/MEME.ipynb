{
 "cells": [
  {
   "cell_type": "markdown",
   "id": "0828c8bc-68b5-4acc-a4b1-d18b57acb4e5",
   "metadata": {},
   "source": [
    "# MEME"
   ]
  },
  {
   "cell_type": "markdown",
   "id": "d1ceef05-39d9-4da0-b769-830114670bc6",
   "metadata": {},
   "source": [
    "[Mutually Supervised Multimodal VAE (MEME)](https://openreview.net/pdf?id=1xXvPrAshao)"
   ]
  },
  {
   "cell_type": "markdown",
   "id": "5b67a6a8-6963-4707-851a-375fbb0a9484",
   "metadata": {},
   "source": [
    "## Imports"
   ]
  },
  {
   "cell_type": "code",
   "execution_count": null,
   "id": "0b7a999f-c73c-4933-ae52-3969fad32b73",
   "metadata": {},
   "outputs": [],
   "source": [
    "import os, sys\n",
    "sys.path.append(\"../\")"
   ]
  },
  {
   "cell_type": "code",
   "execution_count": null,
   "id": "a2926f18-6109-41bc-848b-e567a345f92d",
   "metadata": {},
   "outputs": [],
   "source": [
    "import torch\n",
    "import torchvision\n",
    "from pytorch_lightning import Trainer\n",
    "from playground.models import MEME\n",
    "from playground.datamodules import MNISTDataModule, SVHNDataModule\n",
    "from playground.utils import imshow"
   ]
  },
  {
   "cell_type": "markdown",
   "id": "1c9adc2d-90b2-4ea7-866c-d0e4b6ae6fb4",
   "metadata": {},
   "source": [
    "## Introduction"
   ]
  },
  {
   "cell_type": "markdown",
   "id": "9ec786a5-f0b3-4398-b164-da5b123571c1",
   "metadata": {},
   "source": []
  },
  {
   "cell_type": "markdown",
   "id": "89c852c2-bb50-4c23-9f45-3e8c570bd7d5",
   "metadata": {},
   "source": [
    "## Model"
   ]
  },
  {
   "cell_type": "code",
   "execution_count": null,
   "id": "260a1e1b-5d71-40cd-990e-8b7cda4fbdd9",
   "metadata": {},
   "outputs": [],
   "source": [
    "input_dim = (1, 28, 28)\n",
    "latent_dim = 10\n",
    "\n",
    "model = MEME(input_dim, latent_dim)\n",
    "\n",
    "model"
   ]
  },
  {
   "cell_type": "code",
   "execution_count": null,
   "id": "66f87800-2b1c-489f-8212-63beb21ff7d1",
   "metadata": {},
   "outputs": [],
   "source": [
    "x = torch.randn(1, 28, 28)\n",
    "out = model(x)\n",
    "\n",
    "out.shape"
   ]
  },
  {
   "cell_type": "markdown",
   "id": "51d4ddb8-cece-41f0-a07e-1a9997c5d346",
   "metadata": {},
   "source": [
    "## Datasets"
   ]
  },
  {
   "cell_type": "code",
   "execution_count": null,
   "id": "118a2a2b-7df7-4afc-a079-282eef867525",
   "metadata": {},
   "outputs": [],
   "source": [
    "mnist_dir = '../data'\n",
    "svhn_dir = '../data/SVHN'\n",
    "\n",
    "batch_size = 32\n",
    "num_workers = 8"
   ]
  },
  {
   "cell_type": "code",
   "execution_count": null,
   "id": "cc80d556-0c01-4552-8228-eed5bbeaaeec",
   "metadata": {},
   "outputs": [],
   "source": [
    "mnist_dm = MNISTDataModule(mnist_dir, batch_size, num_workers)\n",
    "svhn_dm = SVHNDataModule(svhn_dir, batch_size, num_workers)"
   ]
  },
  {
   "cell_type": "code",
   "execution_count": null,
   "id": "51060471-2a13-4910-bba1-8bc5d052dff0",
   "metadata": {},
   "outputs": [],
   "source": []
  }
 ],
 "metadata": {
  "kernelspec": {
   "display_name": "Python [conda env:play] *",
   "language": "python",
   "name": "conda-env-play-py"
  },
  "language_info": {
   "codemirror_mode": {
    "name": "ipython",
    "version": 3
   },
   "file_extension": ".py",
   "mimetype": "text/x-python",
   "name": "python",
   "nbconvert_exporter": "python",
   "pygments_lexer": "ipython3",
   "version": "3.10.5"
  }
 },
 "nbformat": 4,
 "nbformat_minor": 5
}
