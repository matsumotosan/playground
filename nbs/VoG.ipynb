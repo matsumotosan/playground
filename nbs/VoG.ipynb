{
 "cells": [
  {
   "cell_type": "markdown",
   "id": "fd8e9f98-27b8-474f-8e2f-4c0170ef349e",
   "metadata": {},
   "source": [
    "# Variance of Gradients"
   ]
  },
  {
   "cell_type": "markdown",
   "id": "885255df-aa9b-4e76-9201-7da5aaf55ddc",
   "metadata": {},
   "source": [
    "Variance of Gradients (VoG) is a qualitative metric to measure the \"difficulty\" of a given sample."
   ]
  },
  {
   "cell_type": "markdown",
   "id": "1b35e675-48d4-4173-ba32-6aae5e1c1547",
   "metadata": {
    "tags": []
   },
   "source": [
    "### Imports"
   ]
  },
  {
   "cell_type": "code",
   "execution_count": null,
   "id": "c35f857b-0eb2-4a85-91cd-76eba5904bde",
   "metadata": {},
   "outputs": [],
   "source": [
    "import argparse\n",
    "import torch\n",
    "import torch.nn as nn\n",
    "import numpy as np\n",
    "import matplotlib.pyplot as plt\n",
    "from sklearn.datasets import make_blobs\n",
    "from sklearn.model_selection import train_test_split\n",
    "from sklearn.preprocessing import LabelBinarizer\n",
    "from sklearn.metrics import accuracy_score\n",
    "\n",
    "%matplotlib inline"
   ]
  },
  {
   "cell_type": "markdown",
   "id": "866d48fe-a469-4ddf-a1e7-c85b2c8326b1",
   "metadata": {},
   "source": [
    "Set up log directory."
   ]
  },
  {
   "cell_type": "code",
   "execution_count": null,
   "id": "050d369d-48a2-4e8e-a995-0e34dbe5a97a",
   "metadata": {},
   "outputs": [],
   "source": [
    "log_dir = '../logs'"
   ]
  },
  {
   "cell_type": "markdown",
   "id": "23c6dfdc-f9da-485b-ab2a-944393425bbe",
   "metadata": {},
   "source": [
    "### Helper functions"
   ]
  },
  {
   "cell_type": "code",
   "execution_count": null,
   "id": "a3695b0b-e961-41d1-9b3c-8b6ff52b38f1",
   "metadata": {},
   "outputs": [],
   "source": [
    "def binarize_labels(labels):\n",
    "    \"\"\"Binarize labels.\"\"\"\n",
    "    labels = LabelBinarizer().fit_transform(labels)\n",
    "    if labels.shape[1] == 1:\n",
    "        labels = np.hstack((1 - labels, labels))\n",
    "    return labels"
   ]
  },
  {
   "cell_type": "code",
   "execution_count": null,
   "id": "4b6d8957-8929-46d5-81d2-f73ec8927140",
   "metadata": {},
   "outputs": [],
   "source": [
    "def init_weights(m):\n",
    "    if isinstance(m, nn.Linear):\n",
    "        torch.nn.init.xavier_uniform_(m.weight)\n",
    "        m.bias.data.fill_(0.0)"
   ]
  },
  {
   "cell_type": "markdown",
   "id": "700dc190-a29f-43bf-a359-cf245b127cab",
   "metadata": {
    "tags": []
   },
   "source": [
    "## Create toy dataset"
   ]
  },
  {
   "cell_type": "markdown",
   "id": "bbe6845d-fc9a-460b-8e4d-1652d397fb35",
   "metadata": {},
   "source": [
    "Create isotropic Gaussian clusters."
   ]
  },
  {
   "cell_type": "code",
   "execution_count": null,
   "id": "b5852d75-326e-4c80-b801-a0565bba19bb",
   "metadata": {},
   "outputs": [],
   "source": [
    "# Toy dataset parameters\n",
    "n_samples = 500\n",
    "n_features = 2\n",
    "n_classes = 3\n",
    "cluster_std = 2\n",
    "random_state = 212 #212\n",
    "\n",
    "test_size = 0.1"
   ]
  },
  {
   "cell_type": "code",
   "execution_count": null,
   "id": "957f337e-61d2-4ada-9d14-c7ba3a44cf6b",
   "metadata": {},
   "outputs": [],
   "source": [
    "x, y = make_blobs(\n",
    "    n_samples=n_samples,\n",
    "    n_features=n_features,\n",
    "    centers=n_classes,\n",
    "    cluster_std=cluster_std,\n",
    "    shuffle=True,\n",
    "    random_state=random_state\n",
    ")\n",
    "\n",
    "x.shape, y.shape"
   ]
  },
  {
   "cell_type": "markdown",
   "id": "07df007f-05d4-4ae6-a2b3-059105299377",
   "metadata": {},
   "source": [
    "Plot dataset."
   ]
  },
  {
   "cell_type": "code",
   "execution_count": null,
   "id": "aad9a503-58a8-419e-ba61-c9f9dba7af40",
   "metadata": {},
   "outputs": [],
   "source": [
    "_, ax = plt.subplots()\n",
    "sc = ax.scatter(x[:, 0], x[:, 1], c=y)\n",
    "ax.legend(*sc.legend_elements())\n",
    "plt.show()"
   ]
  },
  {
   "cell_type": "markdown",
   "id": "b4cea688-1470-40db-8335-03d86fbe7532",
   "metadata": {},
   "source": [
    "Binarize the labels."
   ]
  },
  {
   "cell_type": "code",
   "execution_count": null,
   "id": "837293b2-2318-4b46-969a-8ecf0107fd58",
   "metadata": {},
   "outputs": [],
   "source": [
    "y_bin = binarize_labels(y)"
   ]
  },
  {
   "cell_type": "markdown",
   "id": "2da2bb18-5471-4cd0-beaf-6bf4da7fbd1a",
   "metadata": {},
   "source": [
    "Split data in train and test subsets."
   ]
  },
  {
   "cell_type": "code",
   "execution_count": null,
   "id": "37ae2ed1-8981-4bd2-a53a-d19534c8059b",
   "metadata": {},
   "outputs": [],
   "source": [
    "x_train, x_test, y_train, y_test = train_test_split(x, y_bin, test_size=test_size)\n",
    "\n",
    "x_train.shape, x_test.shape, y_train.shape, y_test.shape"
   ]
  },
  {
   "cell_type": "markdown",
   "id": "c1c7a79e-b81f-4384-b72c-20c12d48c0c4",
   "metadata": {},
   "source": [
    "Finally convert to a torch.FloatTensor"
   ]
  },
  {
   "cell_type": "code",
   "execution_count": null,
   "id": "e18031d9-d398-4a91-9f4b-d84bf6956a53",
   "metadata": {},
   "outputs": [],
   "source": [
    "x_train = torch.FloatTensor(x_train)\n",
    "x_test = torch.FloatTensor(x_test)\n",
    "y_train = torch.FloatTensor(y_train)\n",
    "y_test = torch.FloatTensor(y_test)\n",
    "\n",
    "x_train.shape, x_test.shape, y_train.shape, y_test.shape"
   ]
  },
  {
   "cell_type": "markdown",
   "id": "cb7f0669-ec43-4a0d-839b-0cf48085b56c",
   "metadata": {},
   "source": [
    "## FFN classifier"
   ]
  },
  {
   "cell_type": "markdown",
   "id": "40f48672-d5cf-453e-b9c5-be2274814619",
   "metadata": {},
   "source": [
    "### Define a simple FFN module"
   ]
  },
  {
   "cell_type": "code",
   "execution_count": null,
   "id": "4c77f9e2-4627-4ac8-ad7c-2800dc7e61e5",
   "metadata": {},
   "outputs": [],
   "source": [
    "class FFN(nn.Module):\n",
    "    \"\"\"Simple two-layer MLP for point classification.\"\"\"\n",
    "    def __init__(self, input_dim, hidden_dim, n_classes):\n",
    "        super().__init__()\n",
    "        self.model = nn.Sequential(\n",
    "            nn.Linear(input_dim, hidden_dim),\n",
    "            nn.Linear(hidden_dim, n_classes),\n",
    "            nn.Softmax(dim=1)\n",
    "        )\n",
    "    \n",
    "    def forward(self, x):\n",
    "        return self.model(x)"
   ]
  },
  {
   "cell_type": "code",
   "execution_count": null,
   "id": "4b4a66a8-82a4-4b7f-8597-35390683f124",
   "metadata": {},
   "outputs": [],
   "source": [
    "hidden_dim = n_features * 4\n",
    "\n",
    "model = FFN(n_features, hidden_dim, n_classes)"
   ]
  },
  {
   "cell_type": "markdown",
   "id": "53323197-4003-4f26-b650-5cbcd392e974",
   "metadata": {},
   "source": [
    "### Train FFN"
   ]
  },
  {
   "cell_type": "code",
   "execution_count": null,
   "id": "5133ea1f-59b0-4722-a26a-b4fbc27db072",
   "metadata": {},
   "outputs": [],
   "source": [
    "n_epochs = 15\n",
    "lr = 0.001\n",
    "\n",
    "criterion = nn.CrossEntropyLoss()\n",
    "optimizer = torch.optim.SGD(\n",
    "    model.parameters(),\n",
    "    lr=lr\n",
    ")"
   ]
  },
  {
   "cell_type": "code",
   "execution_count": null,
   "id": "c8ec4289-d0e5-44a7-bdcd-73fbdbea91bd",
   "metadata": {},
   "outputs": [],
   "source": [
    "model.apply(init_weights)\n",
    "\n",
    "for epoch in range(n_epochs):\n",
    "    ### TRAINING ###\n",
    "    # Prepare model and optimizer for training\n",
    "    model.train()\n",
    "    optimizer.zero_grad()\n",
    "    \n",
    "    # Get model predictions\n",
    "    y_pred = model(x_train)\n",
    "    \n",
    "    # Calculate loss and accuracy\n",
    "    loss = criterion(y_pred, y_train)\n",
    "    acc = accuracy_score(\n",
    "        y_pred.detach().numpy().argmax(axis=1),\n",
    "        y_train.detach().numpy().argmax(axis=1)\n",
    "    )\n",
    "    \n",
    "    # Print updates\n",
    "    print(f\"epoch {epoch+1}/{n_epochs}\\tloss : {loss.item()}\\tacc : {acc}\")\n",
    "    \n",
    "    # Update model parameters\n",
    "    loss.backward()\n",
    "    optimizer.step()\n",
    "    \n",
    "    ### GET GRADIENTS ###\n",
    "    # model.eval()\n",
    "    # class_pred = torch.argmax(y_pred, dim=1)"
   ]
  },
  {
   "cell_type": "code",
   "execution_count": null,
   "id": "47f60af9-f921-4d30-8815-9d741ced0108",
   "metadata": {},
   "outputs": [],
   "source": [
    "y_pred[:5,:], y_train[:5,:]"
   ]
  },
  {
   "cell_type": "markdown",
   "id": "31a88601-c301-4ee0-ac67-9f7f24605f8d",
   "metadata": {},
   "source": [
    "### Visualize samples with highest and lowest VoG"
   ]
  },
  {
   "cell_type": "code",
   "execution_count": null,
   "id": "bd0084f0-11ef-4328-8bd4-f09bbda0c747",
   "metadata": {},
   "outputs": [],
   "source": []
  }
 ],
 "metadata": {
  "kernelspec": {
   "display_name": "Python [conda env:play] *",
   "language": "python",
   "name": "conda-env-play-py"
  },
  "language_info": {
   "codemirror_mode": {
    "name": "ipython",
    "version": 3
   },
   "file_extension": ".py",
   "mimetype": "text/x-python",
   "name": "python",
   "nbconvert_exporter": "python",
   "pygments_lexer": "ipython3",
   "version": "3.10.5"
  }
 },
 "nbformat": 4,
 "nbformat_minor": 5
}
